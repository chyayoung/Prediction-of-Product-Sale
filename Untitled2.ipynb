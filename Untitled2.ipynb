{
  "nbformat": 4,
  "nbformat_minor": 0,
  "metadata": {
    "colab": {
      "provenance": [],
      "authorship_tag": "ABX9TyPOZW3zwrBLUwOXt+FhdDzt",
      "include_colab_link": true
    },
    "kernelspec": {
      "name": "python3",
      "display_name": "Python 3"
    },
    "language_info": {
      "name": "python"
    }
  },
  "cells": [
    {
      "cell_type": "markdown",
      "metadata": {
        "id": "view-in-github",
        "colab_type": "text"
      },
      "source": [
        "<a href=\"https://colab.research.google.com/github/chyayoung/Prediction-of-Product-Sale/blob/main/Untitled2.ipynb\" target=\"_parent\"><img src=\"https://colab.research.google.com/assets/colab-badge.svg\" alt=\"Open In Colab\"/></a>"
      ]
    },
    {
      "cell_type": "markdown",
      "source": [
        "### **Prediction of Product Sales**\n",
        "Chyvaughn Young\n",
        "### **Project Overview**\n",
        "Project Overview\n",
        "\n",
        "### **Load and Inspect Data**"
      ],
      "metadata": {
        "id": "kP0koXJcFc7N"
      }
    },
    {
      "cell_type": "code",
      "source": [],
      "metadata": {
        "id": "apgDIu9yF6iw"
      },
      "execution_count": null,
      "outputs": []
    },
    {
      "cell_type": "markdown",
      "source": [
        "### **Clean Data**"
      ],
      "metadata": {
        "id": "NzkZxAzPF75I"
      }
    },
    {
      "cell_type": "code",
      "source": [],
      "metadata": {
        "id": "7x490GU6GGou"
      },
      "execution_count": null,
      "outputs": []
    },
    {
      "cell_type": "markdown",
      "source": [
        "### **Exploratory Data Analysis**"
      ],
      "metadata": {
        "id": "X8AnJgatGIVG"
      }
    },
    {
      "cell_type": "code",
      "source": [],
      "metadata": {
        "id": "uzY9-kJ0GLz_"
      },
      "execution_count": null,
      "outputs": []
    },
    {
      "cell_type": "markdown",
      "source": [
        "### **Explanatory Data Analysis**"
      ],
      "metadata": {
        "id": "IwrcuMdcGMuR"
      }
    },
    {
      "cell_type": "code",
      "source": [],
      "metadata": {
        "id": "oQcZJMrqGQ9_"
      },
      "execution_count": null,
      "outputs": []
    }
  ]
}